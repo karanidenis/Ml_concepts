{
  "nbformat": 4,
  "nbformat_minor": 0,
  "metadata": {
    "colab": {
      "provenance": [],
      "authorship_tag": "ABX9TyMzKNSmytxdDvCHy0UOyimA",
      "include_colab_link": true
    },
    "kernelspec": {
      "name": "python3",
      "display_name": "Python 3"
    },
    "language_info": {
      "name": "python"
    }
  },
  "cells": [
    {
      "cell_type": "markdown",
      "metadata": {
        "id": "view-in-github",
        "colab_type": "text"
      },
      "source": [
        "<a href=\"https://colab.research.google.com/github/karanidenis/Ml_concepts/blob/main/Kikuyu_translator.ipynb\" target=\"_parent\"><img src=\"https://colab.research.google.com/assets/colab-badge.svg\" alt=\"Open In Colab\"/></a>"
      ]
    },
    {
      "cell_type": "markdown",
      "source": [
        "## This Notebook contains a model that translates a sentence from English to Kiswahili."
      ],
      "metadata": {
        "id": "eEiUtaSP9OSp"
      }
    },
    {
      "cell_type": "code",
      "source": [
        "import numpy as np\n",
        "from keras.utils import to_categorical\n",
        "from tensorflow.keras.preprocessing.text import Tokenizer\n",
        "from tensorflow.keras.preprocessing.sequence import pad_sequences\n",
        "from tensorflow.keras.models import Sequential\n",
        "from tensorflow.keras.layers import Embedding, LSTM, Dense, RepeatVector, TimeDistributed\n",
        "from tensorflow.keras.utils import plot_model"
      ],
      "metadata": {
        "id": "OrmZ6_0AW6aZ"
      },
      "execution_count": null,
      "outputs": []
    },
    {
      "cell_type": "code",
      "execution_count": null,
      "metadata": {
        "id": "3zdsWp8_9I0B"
      },
      "outputs": [],
      "source": [
        "# English_statement = [\"I am a boy\"]\n",
        "# Kiswahili_statement = [\"Mimi ni kijana\"]\n",
        "English_statements = [\"I am a boy\", \"I am a girl\", \"He is a man\", \"She is a woman\"]\n",
        "# Kikuyu_statements = [\"Nie di mwanake\", \"Nie di mwiretu\", \"Ni muthuri\", \"Ni mutumia\"]\n",
        "Kikuyu_statements = [\"Niû ndî mwanake\", \"niû ndî muirîtu\", \"Ûcio ni mûthuri\", \"Ûcio ni mutumia\"]"
      ]
    },
    {
      "cell_type": "code",
      "source": [
        "# fit a tokenizer\n",
        "def create_tokenizer(lines):\n",
        "\ttokenizer = Tokenizer()\n",
        "\ttokenizer.fit_on_texts(lines)\n",
        "\treturn tokenizer"
      ],
      "metadata": {
        "id": "EaL7j1J_9npS"
      },
      "execution_count": null,
      "outputs": []
    },
    {
      "cell_type": "code",
      "source": [
        "# max sentence length\n",
        "def max_length(lines):\n",
        " return max(len(line.split()) for line in lines)"
      ],
      "metadata": {
        "id": "BLSIrB4F9nz_"
      },
      "execution_count": null,
      "outputs": []
    },
    {
      "cell_type": "code",
      "source": [
        "# prepare english  and Kikuyu tokenizer\n",
        "eng_tokenizer = create_tokenizer(English_statements)\n",
        "# print(eng_tokenizer)\n",
        "eng_vocab_size = len(eng_tokenizer.word_index) + 1\n",
        "print(eng_vocab_size)\n",
        "eng_max_len = max_length(English_statements)\n",
        "print(eng_max_len)\n",
        "\n",
        "kyuk_tokenizer = create_tokenizer(Kikuyu_statements)\n",
        "# print(kyuk_tokenizer)\n",
        "kyuk_vocab_size = len(kyuk_tokenizer.word_index) + 1\n",
        "print(kyuk_vocab_size)\n",
        "kyuk_max_len = max_length(Kikuyu_statements)\n",
        "print(kyuk_max_len)"
      ],
      "metadata": {
        "colab": {
          "base_uri": "https://localhost:8080/"
        },
        "id": "aiDuuLCt9n36",
        "outputId": "1e8ee0c9-20b3-4c86-ddce-b402ec505c16"
      },
      "execution_count": null,
      "outputs": [
        {
          "output_type": "stream",
          "name": "stdout",
          "text": [
            "11\n",
            "4\n",
            "9\n",
            "3\n"
          ]
        }
      ]
    },
    {
      "cell_type": "code",
      "source": [
        "# Encode and pad sequences\n",
        "def encode_sequences(tokenizer, length, lines):\n",
        "    sequences = tokenizer.texts_to_sequences(lines)\n",
        "    return pad_sequences(sequences, maxlen=length, padding='post')"
      ],
      "metadata": {
        "id": "xenLox3nXhPF"
      },
      "execution_count": null,
      "outputs": []
    },
    {
      "cell_type": "code",
      "source": [
        "# Prepare data\n",
        "trainX = encode_sequences(eng_tokenizer, eng_max_len, English_statements)\n",
        "print(trainX.shape)\n",
        "trainY = encode_sequences(kyuk_tokenizer, kyuk_max_len, Kikuyu_statements)\n",
        "print(trainY.shape)\n",
        "trainY = to_categorical(trainY, num_classes=kyuk_vocab_size)\n",
        "print(trainY.shape)\n"
      ],
      "metadata": {
        "colab": {
          "base_uri": "https://localhost:8080/"
        },
        "id": "FkMj00fcXhwj",
        "outputId": "f3ec5432-3a57-469f-c253-54b66c8cbe0d"
      },
      "execution_count": null,
      "outputs": [
        {
          "output_type": "stream",
          "name": "stdout",
          "text": [
            "(4, 4)\n",
            "(4, 3)\n",
            "(4, 3, 9)\n"
          ]
        }
      ]
    },
    {
      "cell_type": "code",
      "source": [
        "# Define model\n",
        "def define_model(src_vocab, tar_vocab, src_timesteps, tar_timesteps, n_units):\n",
        "    model = Sequential()\n",
        "    model.add(Embedding(src_vocab, n_units, input_length=src_timesteps, mask_zero=True))\n",
        "    model.add(LSTM(n_units))\n",
        "    model.add(RepeatVector(tar_timesteps))\n",
        "    model.add(LSTM(n_units, return_sequences=True))\n",
        "    model.add(TimeDistributed(Dense(tar_vocab, activation='softmax')))\n",
        "    return model\n",
        "\n",
        "# Hyperparameters\n",
        "n_units = 256\n",
        "\n",
        "# define model\n",
        "model = define_model(eng_vocab_size, kyuk_vocab_size, eng_max_len, kyuk_max_len, n_units)"
      ],
      "metadata": {
        "id": "UnUKWsNnYRSl"
      },
      "execution_count": null,
      "outputs": []
    },
    {
      "cell_type": "code",
      "source": [
        "# compile\n",
        "model.compile(optimizer='adam', loss='categorical_crossentropy', metrics=['accuracy'])"
      ],
      "metadata": {
        "id": "otJk2h1KZHIi"
      },
      "execution_count": null,
      "outputs": []
    },
    {
      "cell_type": "code",
      "source": [
        "print(model.summary())\n",
        "plot_model(model, to_file='model.png', show_shapes=True)"
      ],
      "metadata": {
        "colab": {
          "base_uri": "https://localhost:8080/",
          "height": 1000
        },
        "id": "VaAAABdQZS-f",
        "outputId": "1d1099da-f948-4847-8279-5d318cebf10b"
      },
      "execution_count": null,
      "outputs": [
        {
          "output_type": "stream",
          "name": "stdout",
          "text": [
            "Model: \"sequential\"\n",
            "_________________________________________________________________\n",
            " Layer (type)                Output Shape              Param #   \n",
            "=================================================================\n",
            " embedding (Embedding)       (None, 4, 256)            2816      \n",
            "                                                                 \n",
            " lstm (LSTM)                 (None, 256)               525312    \n",
            "                                                                 \n",
            " repeat_vector (RepeatVecto  (None, 3, 256)            0         \n",
            " r)                                                              \n",
            "                                                                 \n",
            " lstm_1 (LSTM)               (None, 3, 256)            525312    \n",
            "                                                                 \n",
            " time_distributed (TimeDist  (None, 3, 9)              2313      \n",
            " ributed)                                                        \n",
            "                                                                 \n",
            "=================================================================\n",
            "Total params: 1055753 (4.03 MB)\n",
            "Trainable params: 1055753 (4.03 MB)\n",
            "Non-trainable params: 0 (0.00 Byte)\n",
            "_________________________________________________________________\n",
            "None\n"
          ]
        },
        {
          "output_type": "execute_result",
          "data": {
            "image/png": "[encoded data removed]",
            "text/plain": [
              "<IPython.core.display.Image object>"
            ]
          },
          "metadata": {},
          "execution_count": 10
        }
      ]
    },
    {
      "cell_type": "code",
      "source": [
        "# Train the model\n",
        "model.fit(trainX, trainY, epochs=30, batch_size=64)\n"
      ],
      "metadata": {
        "colab": {
          "base_uri": "https://localhost:8080/"
        },
        "id": "uSunT3yDaFP5",
        "outputId": "54f8c374-f745-4cf7-88d4-ebe9de11b582"
      },
      "execution_count": null,
      "outputs": [
        {
          "output_type": "stream",
          "name": "stdout",
          "text": [
            "Epoch 1/30\n",
            "1/1 [==============================] - 7s 7s/step - loss: 2.1971 - accuracy: 0.0833\n",
            "Epoch 2/30\n",
            "1/1 [==============================] - 0s 66ms/step - loss: 2.1882 - accuracy: 0.3333\n",
            "Epoch 3/30\n",
            "1/1 [==============================] - 0s 74ms/step - loss: 2.1785 - accuracy: 0.3333\n",
            "Epoch 4/30\n",
            "1/1 [==============================] - 0s 69ms/step - loss: 2.1670 - accuracy: 0.3333\n",
            "Epoch 5/30\n",
            "1/1 [==============================] - 0s 84ms/step - loss: 2.1530 - accuracy: 0.3333\n",
            "Epoch 6/30\n",
            "1/1 [==============================] - 0s 72ms/step - loss: 2.1351 - accuracy: 0.3333\n",
            "Epoch 7/30\n",
            "1/1 [==============================] - 0s 71ms/step - loss: 2.1123 - accuracy: 0.3333\n",
            "Epoch 8/30\n",
            "1/1 [==============================] - 0s 99ms/step - loss: 2.0831 - accuracy: 0.3333\n",
            "Epoch 9/30\n",
            "1/1 [==============================] - 0s 70ms/step - loss: 2.0457 - accuracy: 0.3333\n",
            "Epoch 10/30\n",
            "1/1 [==============================] - 0s 84ms/step - loss: 1.9981 - accuracy: 0.3333\n",
            "Epoch 11/30\n",
            "1/1 [==============================] - 0s 73ms/step - loss: 1.9384 - accuracy: 0.3333\n",
            "Epoch 12/30\n",
            "1/1 [==============================] - 0s 72ms/step - loss: 1.8654 - accuracy: 0.3333\n",
            "Epoch 13/30\n",
            "1/1 [==============================] - 0s 72ms/step - loss: 1.7797 - accuracy: 0.3333\n",
            "Epoch 14/30\n",
            "1/1 [==============================] - 0s 72ms/step - loss: 1.6840 - accuracy: 0.3333\n",
            "Epoch 15/30\n",
            "1/1 [==============================] - 0s 88ms/step - loss: 1.5802 - accuracy: 0.3333\n",
            "Epoch 16/30\n",
            "1/1 [==============================] - 0s 84ms/step - loss: 1.4694 - accuracy: 0.3333\n",
            "Epoch 17/30\n",
            "1/1 [==============================] - 0s 71ms/step - loss: 1.3585 - accuracy: 0.3333\n",
            "Epoch 18/30\n",
            "1/1 [==============================] - 0s 81ms/step - loss: 1.2603 - accuracy: 0.5000\n",
            "Epoch 19/30\n",
            "1/1 [==============================] - 0s 102ms/step - loss: 1.1790 - accuracy: 0.5000\n",
            "Epoch 20/30\n",
            "1/1 [==============================] - 0s 93ms/step - loss: 1.0977 - accuracy: 0.5000\n",
            "Epoch 21/30\n",
            "1/1 [==============================] - 0s 87ms/step - loss: 1.0041 - accuracy: 0.6667\n",
            "Epoch 22/30\n",
            "1/1 [==============================] - 0s 90ms/step - loss: 0.9083 - accuracy: 0.6667\n",
            "Epoch 23/30\n",
            "1/1 [==============================] - 0s 76ms/step - loss: 0.8313 - accuracy: 0.6667\n",
            "Epoch 24/30\n",
            "1/1 [==============================] - 0s 80ms/step - loss: 0.7665 - accuracy: 0.6667\n",
            "Epoch 25/30\n",
            "1/1 [==============================] - 0s 91ms/step - loss: 0.6818 - accuracy: 0.7500\n",
            "Epoch 26/30\n",
            "1/1 [==============================] - 0s 65ms/step - loss: 0.5864 - accuracy: 0.8333\n",
            "Epoch 27/30\n",
            "1/1 [==============================] - 0s 76ms/step - loss: 0.5019 - accuracy: 0.8333\n",
            "Epoch 28/30\n",
            "1/1 [==============================] - 0s 66ms/step - loss: 0.4324 - accuracy: 0.9167\n",
            "Epoch 29/30\n",
            "1/1 [==============================] - 0s 77ms/step - loss: 0.3676 - accuracy: 1.0000\n",
            "Epoch 30/30\n",
            "1/1 [==============================] - 0s 80ms/step - loss: 0.3060 - accuracy: 1.0000\n"
          ]
        },
        {
          "output_type": "execute_result",
          "data": {
            "text/plain": [
              "<keras.src.callbacks.History at 0x7cba5edcbac0>"
            ]
          },
          "metadata": {},
          "execution_count": 11
        }
      ]
    },
    {
      "cell_type": "code",
      "source": [
        "from nltk.translate.bleu_score import sentence_bleu, SmoothingFunction\n",
        "\n",
        "\n",
        "# Function to decode sequences back to text\n",
        "def word_for_id(integer, tokenizer):\n",
        "    for word, index in tokenizer.word_index.items():\n",
        "        if index == integer:\n",
        "            return word\n",
        "    return None\n",
        "\n",
        "def decode_sequence(sequence, tokenizer):\n",
        "    return ' '.join([word_for_id(i, tokenizer) for i in sequence if i > 0])\n",
        "\n",
        "# Predict translations for the given input sequences\n",
        "def predict_sequence(model, tokenizer, source):\n",
        "    prediction = model.predict(source, verbose=0)[0]\n",
        "    integers = [np.argmax(vector) for vector in prediction]\n",
        "    target = decode_sequence(integers, tokenizer)\n",
        "    return target\n",
        "\n",
        "# Prepare input data\n",
        "testX = encode_sequences(eng_tokenizer, eng_max_len, English_statements)\n",
        "\n",
        "# Predict translations\n",
        "predictions = []\n",
        "for i in range(len(testX)):\n",
        "    source = testX[i].reshape((1, testX.shape[1]))\n",
        "    translation = predict_sequence(model, kyuk_tokenizer, source)\n",
        "    predictions.append(translation)\n",
        "\n",
        "# Print translations\n",
        "for i in range(len(predictions)):\n",
        "    print(f'English: {English_statements[i]}')\n",
        "    print(f'Predicted Kikuyu: {predictions[i]}')\n",
        "    print(f'Reference Kikuyu: {Kikuyu_statements[i]}')\n",
        "    print()\n",
        "\n",
        "# Calculate BLEU scores\n",
        "smoothie = SmoothingFunction().method4\n",
        "bleu_scores = []\n",
        "\n",
        "for i in range(len(predictions)):\n",
        "    reference = [Kikuyu_statements[i].split()]\n",
        "    candidate = predictions[i].split()\n",
        "    score = sentence_bleu(reference, candidate, smoothing_function=smoothie)\n",
        "    bleu_scores.append(score)\n",
        "    print(f'Sentence {i+1} BLEU score: {score:.4f}')\n",
        "\n",
        "# Average BLEU score\n",
        "average_bleu = np.mean(bleu_scores)\n",
        "print(f'Average BLEU score: {average_bleu:.4f}')"
      ],
      "metadata": {
        "colab": {
          "base_uri": "https://localhost:8080/"
        },
        "id": "u4CyxgzGO0Xi",
        "outputId": "addfcbf6-4960-4383-9b5d-04df9d376477"
      },
      "execution_count": null,
      "outputs": [
        {
          "output_type": "stream",
          "name": "stdout",
          "text": [
            "English: I am a boy\n",
            "Predicted Kikuyu: niû ndî mwanake\n",
            "Reference Kikuyu: Niû ndî mwanake\n",
            "\n",
            "English: I am a girl\n",
            "Predicted Kikuyu: niû ndî muirîtu\n",
            "Reference Kikuyu: niû ndî muirîtu\n",
            "\n",
            "English: He is a man\n",
            "Predicted Kikuyu: ûcio ni mûthuri\n",
            "Reference Kikuyu: Ûcio ni mûthuri\n",
            "\n",
            "English: She is a woman\n",
            "Predicted Kikuyu: ûcio ni mutumia\n",
            "Reference Kikuyu: Ûcio ni mutumia\n",
            "\n",
            "Sentence 1 BLEU score: 0.2118\n",
            "Sentence 2 BLEU score: 0.5757\n",
            "Sentence 3 BLEU score: 0.2118\n",
            "Sentence 4 BLEU score: 0.2118\n",
            "Average BLEU score: 0.3028\n"
          ]
        }
      ]
    }
  ]
}